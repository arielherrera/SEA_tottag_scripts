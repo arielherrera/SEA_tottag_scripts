{
 "cells": [
  {
   "cell_type": "code",
   "execution_count": 27,
   "metadata": {},
   "outputs": [
    {
     "data": {
      "text/html": [
       "<div>\n",
       "<style scoped>\n",
       "    .dataframe tbody tr th:only-of-type {\n",
       "        vertical-align: middle;\n",
       "    }\n",
       "\n",
       "    .dataframe tbody tr th {\n",
       "        vertical-align: top;\n",
       "    }\n",
       "\n",
       "    .dataframe thead th {\n",
       "        text-align: right;\n",
       "    }\n",
       "</style>\n",
       "<table border=\"1\" class=\"dataframe\">\n",
       "  <thead>\n",
       "    <tr style=\"text-align: right;\">\n",
       "      <th></th>\n",
       "      <th>### HEADER for file 'data.log'; Device: c0:98:e5:42:01:03</th>\n",
       "    </tr>\n",
       "  </thead>\n",
       "  <tbody>\n",
       "    <tr>\n",
       "      <th>0</th>\n",
       "      <td>### CHARGING STATUS: PLUGGED IN and NOT CHARGI...</td>\n",
       "    </tr>\n",
       "    <tr>\n",
       "      <th>1</th>\n",
       "      <td>### MOTION CHANGE: STATIONARY; Timestamp: 1610...</td>\n",
       "    </tr>\n",
       "    <tr>\n",
       "      <th>2</th>\n",
       "      <td>### BATTERY VOLTAGE: 4208 mV; Timestamp: 16101...</td>\n",
       "    </tr>\n",
       "    <tr>\n",
       "      <th>3</th>\n",
       "      <td>### BATTERY VOLTAGE: 4189 mV; Timestamp: 16101...</td>\n",
       "    </tr>\n",
       "    <tr>\n",
       "      <th>4</th>\n",
       "      <td>### BATTERY VOLTAGE: 4202 mV; Timestamp: 16101...</td>\n",
       "    </tr>\n",
       "    <tr>\n",
       "      <th>...</th>\n",
       "      <td>...</td>\n",
       "    </tr>\n",
       "    <tr>\n",
       "      <th>49760</th>\n",
       "      <td>1610217560\\tc0:98:e5:42:01:06\\t000525</td>\n",
       "    </tr>\n",
       "    <tr>\n",
       "      <th>49761</th>\n",
       "      <td>1610217561\\tc0:98:e5:42:01:06\\t000548</td>\n",
       "    </tr>\n",
       "    <tr>\n",
       "      <th>49762</th>\n",
       "      <td>### MOTION CHANGE: IN MOTION; Timestamp: 16102...</td>\n",
       "    </tr>\n",
       "    <tr>\n",
       "      <th>49763</th>\n",
       "      <td>1610217562\\tc0:98:e5:42:01:06\\t000625</td>\n",
       "    </tr>\n",
       "    <tr>\n",
       "      <th>49764</th>\n",
       "      <td>1610217563\\tc0:98:e5:42:01:06\\t000497</td>\n",
       "    </tr>\n",
       "  </tbody>\n",
       "</table>\n",
       "<p>49765 rows × 1 columns</p>\n",
       "</div>"
      ],
      "text/plain": [
       "      ### HEADER for file 'data.log'; Device: c0:98:e5:42:01:03\n",
       "0      ### CHARGING STATUS: PLUGGED IN and NOT CHARGI...       \n",
       "1      ### MOTION CHANGE: STATIONARY; Timestamp: 1610...       \n",
       "2      ### BATTERY VOLTAGE: 4208 mV; Timestamp: 16101...       \n",
       "3      ### BATTERY VOLTAGE: 4189 mV; Timestamp: 16101...       \n",
       "4      ### BATTERY VOLTAGE: 4202 mV; Timestamp: 16101...       \n",
       "...                                                  ...       \n",
       "49760              1610217560\\tc0:98:e5:42:01:06\\t000525       \n",
       "49761              1610217561\\tc0:98:e5:42:01:06\\t000548       \n",
       "49762  ### MOTION CHANGE: IN MOTION; Timestamp: 16102...       \n",
       "49763              1610217562\\tc0:98:e5:42:01:06\\t000625       \n",
       "49764              1610217563\\tc0:98:e5:42:01:06\\t000497       \n",
       "\n",
       "[49765 rows x 1 columns]"
      ]
     },
     "execution_count": 27,
     "metadata": {},
     "output_type": "execute_result"
    }
   ],
   "source": [
    "import pandas as pd\n",
    "import os\n",
    "import sys\n",
    "from sortedcontainers import SortedDict\n",
    "import matplotlib.dates as md\n",
    "import matplotlib.pyplot as plt\n",
    "from datetime import datetime, tzinfo, timedelta\n",
    "df = pd.read_csv('03_SS_20210109.LOG')\n",
    "df"
   ]
  },
  {
   "cell_type": "code",
   "execution_count": 7,
   "metadata": {},
   "outputs": [
    {
     "data": {
      "text/plain": [
       "1"
      ]
     },
     "execution_count": 7,
     "metadata": {},
     "output_type": "execute_result"
    }
   ],
   "source": [
    "recording_device = 'UNKNOWN'\n",
    "last_timestamp = 0\n",
    "last_motion = 0\n",
    "timestamps = []\n",
    "motions = []\n",
    "logfile = '03_SS_20210109.LOG'\n",
    "with open(logfile) as f:\n",
    "    for line in f:\n",
    "\n",
    "      # Search for valid motion readings or device IDs\n",
    "        if (line[0] == '#') and (line.find('MOTION CHANGE: ') != -1) and (line.find('Timestamp: ') != -1):\n",
    "\n",
    "         # Parse a valid motion reading\n",
    "            timestamp = int(line[(line.find('Timestamp: ')+11):].rstrip('\\n'))\n",
    "            motion = 1 if (line[(line.find('MOTION CHANGE: ')+15):line.find('; ')] == 'IN MOTION') else 0\n",
    "\n",
    "         # Fill in any timestamp gaps with the previous motion value\n",
    "            for i in range(timestamp - (timestamp if (last_timestamp == 0) else (last_timestamp + 1))):\n",
    "                last_timestamp = last_timestamp + 1\n",
    "                timestamps.append(last_timestamp)\n",
    "                motions.append(last_motion)\n",
    "\n",
    "             # Store the current motion reading\n",
    "                timestamps.append(timestamp)\n",
    "                motions.append(motion)\n",
    "                last_timestamp = timestamp\n",
    "                last_motion = motion\n",
    "\n",
    "        elif (line.find('HEADER') != -1) and (line.find('Device: ') != -1) and (line.find('Timestamp: ') != -1):\n",
    "            recording_device = line[(line.find('Device: ')+8):line.find(', Date:')]\n",
    "            timestamp = int(line[(line.find('Timestamp: ')+11):].rstrip('\\n'))\n",
    "            logfile_date = datetime.utcfromtimestamp(timestamp)\n",
    "\n",
    "motion"
   ]
  },
  {
   "cell_type": "code",
   "execution_count": 3,
   "metadata": {},
   "outputs": [
    {
     "data": {
      "text/plain": [
       "0"
      ]
     },
     "execution_count": 3,
     "metadata": {},
     "output_type": "execute_result"
    }
   ],
   "source": [
    "timestamp - (timestamp if (last_timestamp == 0) else (last_timestamp + 1))"
   ]
  },
  {
   "cell_type": "code",
   "execution_count": null,
   "metadata": {},
   "outputs": [],
   "source": []
  }
 ],
 "metadata": {
  "kernelspec": {
   "display_name": "Python 3",
   "language": "python",
   "name": "python3"
  },
  "language_info": {
   "codemirror_mode": {
    "name": "ipython",
    "version": 3
   },
   "file_extension": ".py",
   "mimetype": "text/x-python",
   "name": "python",
   "nbconvert_exporter": "python",
   "pygments_lexer": "ipython3",
   "version": "3.8.3"
  }
 },
 "nbformat": 4,
 "nbformat_minor": 4
}
